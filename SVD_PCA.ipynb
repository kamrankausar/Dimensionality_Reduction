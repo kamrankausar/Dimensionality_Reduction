{
 "cells": [
  {
   "cell_type": "code",
   "execution_count": 1,
   "metadata": {},
   "outputs": [],
   "source": [
    "import pandas as pd"
   ]
  },
  {
   "cell_type": "code",
   "execution_count": 19,
   "metadata": {},
   "outputs": [],
   "source": [
    "import sklearn\n",
    "from sklearn import decomposition\n",
    "from sklearn.decomposition import PCA"
   ]
  },
  {
   "cell_type": "code",
   "execution_count": 6,
   "metadata": {},
   "outputs": [],
   "source": [
    "df = pd.read_csv('sample_data.csv')"
   ]
  },
  {
   "cell_type": "code",
   "execution_count": 7,
   "metadata": {},
   "outputs": [
    {
     "data": {
      "text/html": [
       "<div>\n",
       "<style scoped>\n",
       "    .dataframe tbody tr th:only-of-type {\n",
       "        vertical-align: middle;\n",
       "    }\n",
       "\n",
       "    .dataframe tbody tr th {\n",
       "        vertical-align: top;\n",
       "    }\n",
       "\n",
       "    .dataframe thead th {\n",
       "        text-align: right;\n",
       "    }\n",
       "</style>\n",
       "<table border=\"1\" class=\"dataframe\">\n",
       "  <thead>\n",
       "    <tr style=\"text-align: right;\">\n",
       "      <th></th>\n",
       "      <th>age</th>\n",
       "      <th>edu</th>\n",
       "      <th>salary</th>\n",
       "      <th>city</th>\n",
       "      <th>claim_or_not</th>\n",
       "      <th>mode</th>\n",
       "      <th>payment</th>\n",
       "    </tr>\n",
       "  </thead>\n",
       "  <tbody>\n",
       "    <tr>\n",
       "      <th>0</th>\n",
       "      <td>12</td>\n",
       "      <td>btech</td>\n",
       "      <td>12000</td>\n",
       "      <td>a</td>\n",
       "      <td>yes</td>\n",
       "      <td>year</td>\n",
       "      <td>m</td>\n",
       "    </tr>\n",
       "    <tr>\n",
       "      <th>1</th>\n",
       "      <td>13</td>\n",
       "      <td>mca</td>\n",
       "      <td>13000</td>\n",
       "      <td>b</td>\n",
       "      <td>no</td>\n",
       "      <td>month</td>\n",
       "      <td>n</td>\n",
       "    </tr>\n",
       "    <tr>\n",
       "      <th>2</th>\n",
       "      <td>14</td>\n",
       "      <td>ba</td>\n",
       "      <td>14000</td>\n",
       "      <td>c</td>\n",
       "      <td>yes</td>\n",
       "      <td>quarter</td>\n",
       "      <td>b</td>\n",
       "    </tr>\n",
       "    <tr>\n",
       "      <th>3</th>\n",
       "      <td>15</td>\n",
       "      <td>bba</td>\n",
       "      <td>14001</td>\n",
       "      <td>d</td>\n",
       "      <td>no</td>\n",
       "      <td>year</td>\n",
       "      <td>v</td>\n",
       "    </tr>\n",
       "    <tr>\n",
       "      <th>4</th>\n",
       "      <td>16</td>\n",
       "      <td>msc</td>\n",
       "      <td>14002</td>\n",
       "      <td>e</td>\n",
       "      <td>yes</td>\n",
       "      <td>month</td>\n",
       "      <td>c</td>\n",
       "    </tr>\n",
       "  </tbody>\n",
       "</table>\n",
       "</div>"
      ],
      "text/plain": [
       "   age    edu  salary city claim_or_not     mode payment\n",
       "0   12  btech   12000    a          yes     year       m\n",
       "1   13    mca   13000    b           no    month       n\n",
       "2   14     ba   14000   c           yes  quarter       b\n",
       "3   15    bba   14001    d           no     year       v\n",
       "4   16    msc   14002    e          yes    month       c"
      ]
     },
     "execution_count": 7,
     "metadata": {},
     "output_type": "execute_result"
    }
   ],
   "source": [
    "df.head()"
   ]
  },
  {
   "cell_type": "code",
   "execution_count": 5,
   "metadata": {},
   "outputs": [],
   "source": [
    "from sklearn.preprocessing import LabelEncoder"
   ]
  },
  {
   "cell_type": "code",
   "execution_count": 13,
   "metadata": {},
   "outputs": [],
   "source": [
    "df = pd.get_dummies(df,columns=['edu', 'city', 'claim_or_not', 'payment', 'mode'],drop_first = True)"
   ]
  },
  {
   "cell_type": "code",
   "execution_count": 20,
   "metadata": {},
   "outputs": [],
   "source": [
    "variable_name = df.columns"
   ]
  },
  {
   "cell_type": "code",
   "execution_count": 37,
   "metadata": {},
   "outputs": [],
   "source": [
    "# Note Standardrise the data set"
   ]
  },
  {
   "cell_type": "code",
   "execution_count": 21,
   "metadata": {},
   "outputs": [
    {
     "data": {
      "text/plain": [
       "Index(['age', 'salary', 'edu_bba', 'edu_bca', 'edu_be', 'edu_btech', 'edu_ias',\n",
       "       'edu_mca', 'edu_metric', 'edu_msc', 'city_b', 'city_c ', 'city_d',\n",
       "       'city_e', 'city_f', 'city_g', 'city_h', 'city_i', 'claim_or_not_yes',\n",
       "       'payment_c', 'payment_k', 'payment_l', 'payment_m', 'payment_n',\n",
       "       'payment_v', 'payment_x', 'payment_z', 'mode_quarter', 'mode_year'],\n",
       "      dtype='object')"
      ]
     },
     "execution_count": 21,
     "metadata": {},
     "output_type": "execute_result"
    }
   ],
   "source": [
    "variable_name"
   ]
  },
  {
   "cell_type": "code",
   "execution_count": 15,
   "metadata": {},
   "outputs": [
    {
     "data": {
      "text/plain": [
       "29"
      ]
     },
     "execution_count": 15,
     "metadata": {},
     "output_type": "execute_result"
    }
   ],
   "source": [
    "len(df.columns)"
   ]
  },
  {
   "cell_type": "code",
   "execution_count": 16,
   "metadata": {},
   "outputs": [],
   "source": [
    "X = df.values"
   ]
  },
  {
   "cell_type": "code",
   "execution_count": 17,
   "metadata": {},
   "outputs": [
    {
     "data": {
      "text/plain": [
       "array([[   12, 12000,     0,     0,     0,     1,     0,     0,     0,\n",
       "            0,     0,     0,     0,     0,     0,     0,     0,     0,\n",
       "            1,     0,     0,     0,     1,     0,     0,     0,     0,\n",
       "            0,     1],\n",
       "       [   13, 13000,     0,     0,     0,     0,     0,     1,     0,\n",
       "            0,     1,     0,     0,     0,     0,     0,     0,     0,\n",
       "            0,     0,     0,     0,     0,     1,     0,     0,     0,\n",
       "            0,     0],\n",
       "       [   14, 14000,     0,     0,     0,     0,     0,     0,     0,\n",
       "            0,     0,     1,     0,     0,     0,     0,     0,     0,\n",
       "            1,     0,     0,     0,     0,     0,     0,     0,     0,\n",
       "            1,     0],\n",
       "       [   15, 14001,     1,     0,     0,     0,     0,     0,     0,\n",
       "            0,     0,     0,     1,     0,     0,     0,     0,     0,\n",
       "            0,     0,     0,     0,     0,     0,     1,     0,     0,\n",
       "            0,     1],\n",
       "       [   16, 14002,     0,     0,     0,     0,     0,     0,     0,\n",
       "            1,     0,     0,     0,     1,     0,     0,     0,     0,\n",
       "            1,     1,     0,     0,     0,     0,     0,     0,     0,\n",
       "            0,     0],\n",
       "       [   17, 14003,     0,     0,     1,     0,     0,     0,     0,\n",
       "            0,     0,     0,     0,     0,     1,     0,     0,     0,\n",
       "            0,     0,     0,     0,     0,     0,     0,     1,     0,\n",
       "            1,     0],\n",
       "       [   18, 14004,     0,     0,     0,     0,     0,     0,     1,\n",
       "            0,     0,     0,     0,     0,     0,     1,     0,     0,\n",
       "            1,     0,     0,     0,     0,     0,     0,     0,     1,\n",
       "            0,     1],\n",
       "       [   19, 14005,     0,     0,     0,     0,     1,     0,     0,\n",
       "            0,     0,     0,     0,     0,     0,     0,     1,     0,\n",
       "            0,     0,     0,     1,     0,     0,     0,     0,     0,\n",
       "            0,     0],\n",
       "       [   20, 14006,     0,     1,     0,     0,     0,     0,     0,\n",
       "            0,     0,     0,     0,     0,     0,     0,     0,     1,\n",
       "            1,     0,     1,     0,     0,     0,     0,     0,     0,\n",
       "            1,     0]])"
      ]
     },
     "execution_count": 17,
     "metadata": {},
     "output_type": "execute_result"
    }
   ],
   "source": [
    "X"
   ]
  },
  {
   "cell_type": "code",
   "execution_count": 24,
   "metadata": {},
   "outputs": [],
   "source": [
    "pca = decomposition.PCA()"
   ]
  },
  {
   "cell_type": "code",
   "execution_count": 26,
   "metadata": {},
   "outputs": [
    {
     "data": {
      "text/plain": [
       "array([9.99986457e-01, 7.98902115e-06, 1.32115817e-06, 1.24061608e-06,\n",
       "       9.49502696e-07, 7.47360034e-07, 7.20831143e-07, 5.74338307e-07,\n",
       "       7.21986953e-34])"
      ]
     },
     "execution_count": 26,
     "metadata": {},
     "output_type": "execute_result"
    }
   ],
   "source": [
    "dataset_pca = pca.fit_transform(X)\n",
    "pca.explained_variance_ratio_"
   ]
  },
  {
   "cell_type": "code",
   "execution_count": 28,
   "metadata": {},
   "outputs": [
    {
     "data": {
      "text/plain": [
       "1.0"
      ]
     },
     "execution_count": 28,
     "metadata": {},
     "output_type": "execute_result"
    }
   ],
   "source": [
    "pca.explained_variance_ratio_.sum()"
   ]
  },
  {
   "cell_type": "code",
   "execution_count": 29,
   "metadata": {},
   "outputs": [
    {
     "data": {
      "text/html": [
       "<div>\n",
       "<style scoped>\n",
       "    .dataframe tbody tr th:only-of-type {\n",
       "        vertical-align: middle;\n",
       "    }\n",
       "\n",
       "    .dataframe tbody tr th {\n",
       "        vertical-align: top;\n",
       "    }\n",
       "\n",
       "    .dataframe thead th {\n",
       "        text-align: right;\n",
       "    }\n",
       "</style>\n",
       "<table border=\"1\" class=\"dataframe\">\n",
       "  <thead>\n",
       "    <tr style=\"text-align: right;\">\n",
       "      <th></th>\n",
       "      <th>age</th>\n",
       "      <th>salary</th>\n",
       "      <th>edu_bba</th>\n",
       "      <th>edu_bca</th>\n",
       "      <th>edu_be</th>\n",
       "      <th>edu_btech</th>\n",
       "      <th>edu_ias</th>\n",
       "      <th>edu_mca</th>\n",
       "      <th>edu_metric</th>\n",
       "      <th>edu_msc</th>\n",
       "      <th>...</th>\n",
       "      <th>payment_c</th>\n",
       "      <th>payment_k</th>\n",
       "      <th>payment_l</th>\n",
       "      <th>payment_m</th>\n",
       "      <th>payment_n</th>\n",
       "      <th>payment_v</th>\n",
       "      <th>payment_x</th>\n",
       "      <th>payment_z</th>\n",
       "      <th>mode_quarter</th>\n",
       "      <th>mode_year</th>\n",
       "    </tr>\n",
       "  </thead>\n",
       "  <tbody>\n",
       "    <tr>\n",
       "      <th>0</th>\n",
       "      <td>-2.752596e-03</td>\n",
       "      <td>-9.999959e-01</td>\n",
       "      <td>-0.000083</td>\n",
       "      <td>-0.000084</td>\n",
       "      <td>-0.000083</td>\n",
       "      <td>4.157882e-04</td>\n",
       "      <td>-8.370724e-05</td>\n",
       "      <td>1.666650e-04</td>\n",
       "      <td>-0.000083</td>\n",
       "      <td>-8.295779e-05</td>\n",
       "      <td>...</td>\n",
       "      <td>-8.295779e-05</td>\n",
       "      <td>-0.000084</td>\n",
       "      <td>-8.370724e-05</td>\n",
       "      <td>4.157882e-04</td>\n",
       "      <td>1.666650e-04</td>\n",
       "      <td>-0.000083</td>\n",
       "      <td>-0.000083</td>\n",
       "      <td>-0.000083</td>\n",
       "      <td>-2.496230e-04</td>\n",
       "      <td>2.496230e-04</td>\n",
       "    </tr>\n",
       "    <tr>\n",
       "      <th>1</th>\n",
       "      <td>9.599185e-01</td>\n",
       "      <td>-2.668300e-03</td>\n",
       "      <td>-0.065180</td>\n",
       "      <td>0.101510</td>\n",
       "      <td>0.001489</td>\n",
       "      <td>1.997353e-02</td>\n",
       "      <td>6.689813e-02</td>\n",
       "      <td>-3.898351e-02</td>\n",
       "      <td>0.034842</td>\n",
       "      <td>-3.066207e-02</td>\n",
       "      <td>...</td>\n",
       "      <td>-3.066207e-02</td>\n",
       "      <td>0.101510</td>\n",
       "      <td>6.689813e-02</td>\n",
       "      <td>1.997353e-02</td>\n",
       "      <td>-3.898351e-02</td>\n",
       "      <td>-0.065180</td>\n",
       "      <td>0.001489</td>\n",
       "      <td>0.034842</td>\n",
       "      <td>1.311156e-02</td>\n",
       "      <td>-1.036411e-02</td>\n",
       "    </tr>\n",
       "    <tr>\n",
       "      <th>2</th>\n",
       "      <td>1.445656e-02</td>\n",
       "      <td>1.551792e-04</td>\n",
       "      <td>0.149664</td>\n",
       "      <td>-0.082415</td>\n",
       "      <td>-0.212303</td>\n",
       "      <td>7.452324e-02</td>\n",
       "      <td>-4.366401e-02</td>\n",
       "      <td>-1.490322e-01</td>\n",
       "      <td>0.279552</td>\n",
       "      <td>4.816103e-02</td>\n",
       "      <td>...</td>\n",
       "      <td>4.816103e-02</td>\n",
       "      <td>-0.082415</td>\n",
       "      <td>-4.366401e-02</td>\n",
       "      <td>7.452324e-02</td>\n",
       "      <td>-1.490322e-01</td>\n",
       "      <td>0.149664</td>\n",
       "      <td>-0.212303</td>\n",
       "      <td>0.279552</td>\n",
       "      <td>-3.592033e-01</td>\n",
       "      <td>5.037384e-01</td>\n",
       "    </tr>\n",
       "    <tr>\n",
       "      <th>3</th>\n",
       "      <td>5.977257e-02</td>\n",
       "      <td>-1.091038e-04</td>\n",
       "      <td>0.178119</td>\n",
       "      <td>-0.181831</td>\n",
       "      <td>0.022203</td>\n",
       "      <td>-6.419611e-02</td>\n",
       "      <td>2.542031e-01</td>\n",
       "      <td>1.284522e-01</td>\n",
       "      <td>-0.025916</td>\n",
       "      <td>-1.306299e-01</td>\n",
       "      <td>...</td>\n",
       "      <td>-1.306299e-01</td>\n",
       "      <td>-0.181831</td>\n",
       "      <td>2.542031e-01</td>\n",
       "      <td>-6.419611e-02</td>\n",
       "      <td>1.284522e-01</td>\n",
       "      <td>0.178119</td>\n",
       "      <td>0.022203</td>\n",
       "      <td>-0.025916</td>\n",
       "      <td>-3.400323e-01</td>\n",
       "      <td>8.800699e-02</td>\n",
       "    </tr>\n",
       "    <tr>\n",
       "      <th>4</th>\n",
       "      <td>-9.560779e-04</td>\n",
       "      <td>4.285911e-05</td>\n",
       "      <td>-0.196689</td>\n",
       "      <td>-0.078377</td>\n",
       "      <td>-0.231433</td>\n",
       "      <td>-6.379408e-02</td>\n",
       "      <td>1.736011e-01</td>\n",
       "      <td>1.275872e-01</td>\n",
       "      <td>-0.043633</td>\n",
       "      <td>3.334093e-01</td>\n",
       "      <td>...</td>\n",
       "      <td>3.334093e-01</td>\n",
       "      <td>-0.078377</td>\n",
       "      <td>1.736011e-01</td>\n",
       "      <td>-6.379408e-02</td>\n",
       "      <td>1.275872e-01</td>\n",
       "      <td>-0.196689</td>\n",
       "      <td>-0.231433</td>\n",
       "      <td>-0.043633</td>\n",
       "      <td>-3.304816e-01</td>\n",
       "      <td>-3.041160e-01</td>\n",
       "    </tr>\n",
       "    <tr>\n",
       "      <th>5</th>\n",
       "      <td>4.186603e-16</td>\n",
       "      <td>5.718845e-17</td>\n",
       "      <td>-0.288675</td>\n",
       "      <td>-0.288675</td>\n",
       "      <td>0.288675</td>\n",
       "      <td>-1.799387e-16</td>\n",
       "      <td>5.566761e-16</td>\n",
       "      <td>3.773504e-16</td>\n",
       "      <td>0.288675</td>\n",
       "      <td>-2.867495e-15</td>\n",
       "      <td>...</td>\n",
       "      <td>-2.867495e-15</td>\n",
       "      <td>-0.288675</td>\n",
       "      <td>4.768228e-16</td>\n",
       "      <td>-1.373415e-16</td>\n",
       "      <td>4.230798e-16</td>\n",
       "      <td>-0.288675</td>\n",
       "      <td>0.288675</td>\n",
       "      <td>0.288675</td>\n",
       "      <td>6.863141e-16</td>\n",
       "      <td>1.435407e-15</td>\n",
       "    </tr>\n",
       "    <tr>\n",
       "      <th>6</th>\n",
       "      <td>-5.618438e-03</td>\n",
       "      <td>9.184467e-05</td>\n",
       "      <td>-0.061876</td>\n",
       "      <td>0.132185</td>\n",
       "      <td>-0.153982</td>\n",
       "      <td>-1.949962e-01</td>\n",
       "      <td>-1.602344e-01</td>\n",
       "      <td>3.899867e-01</td>\n",
       "      <td>0.224291</td>\n",
       "      <td>-1.854526e-01</td>\n",
       "      <td>...</td>\n",
       "      <td>-1.854526e-01</td>\n",
       "      <td>0.132185</td>\n",
       "      <td>-1.602344e-01</td>\n",
       "      <td>-1.949962e-01</td>\n",
       "      <td>3.899867e-01</td>\n",
       "      <td>-0.061876</td>\n",
       "      <td>-0.153982</td>\n",
       "      <td>0.224291</td>\n",
       "      <td>-1.171899e-02</td>\n",
       "      <td>-3.258062e-02</td>\n",
       "    </tr>\n",
       "    <tr>\n",
       "      <th>7</th>\n",
       "      <td>-8.706163e-02</td>\n",
       "      <td>2.439838e-04</td>\n",
       "      <td>-0.131512</td>\n",
       "      <td>-0.048846</td>\n",
       "      <td>-0.204894</td>\n",
       "      <td>5.364038e-02</td>\n",
       "      <td>2.917008e-01</td>\n",
       "      <td>-1.073682e-01</td>\n",
       "      <td>0.024536</td>\n",
       "      <td>-3.022620e-01</td>\n",
       "      <td>...</td>\n",
       "      <td>-3.022620e-01</td>\n",
       "      <td>-0.048846</td>\n",
       "      <td>2.917008e-01</td>\n",
       "      <td>5.364038e-02</td>\n",
       "      <td>-1.073682e-01</td>\n",
       "      <td>-0.131512</td>\n",
       "      <td>-0.204894</td>\n",
       "      <td>0.024536</td>\n",
       "      <td>1.712654e-01</td>\n",
       "      <td>-5.333597e-02</td>\n",
       "    </tr>\n",
       "    <tr>\n",
       "      <th>8</th>\n",
       "      <td>-2.590867e-01</td>\n",
       "      <td>6.332890e-04</td>\n",
       "      <td>-0.160292</td>\n",
       "      <td>0.345762</td>\n",
       "      <td>0.067126</td>\n",
       "      <td>4.113526e-02</td>\n",
       "      <td>2.041919e-01</td>\n",
       "      <td>-9.751509e-02</td>\n",
       "      <td>0.125306</td>\n",
       "      <td>-3.630269e-02</td>\n",
       "      <td>...</td>\n",
       "      <td>-3.630269e-02</td>\n",
       "      <td>0.342198</td>\n",
       "      <td>2.089234e-01</td>\n",
       "      <td>4.937353e-02</td>\n",
       "      <td>-9.925556e-02</td>\n",
       "      <td>-0.141782</td>\n",
       "      <td>0.071629</td>\n",
       "      <td>0.125306</td>\n",
       "      <td>-1.052526e-01</td>\n",
       "      <td>3.208087e-02</td>\n",
       "    </tr>\n",
       "  </tbody>\n",
       "</table>\n",
       "<p>9 rows × 29 columns</p>\n",
       "</div>"
      ],
      "text/plain": [
       "            age        salary   edu_bba   edu_bca    edu_be     edu_btech  \\\n",
       "0 -2.752596e-03 -9.999959e-01 -0.000083 -0.000084 -0.000083  4.157882e-04   \n",
       "1  9.599185e-01 -2.668300e-03 -0.065180  0.101510  0.001489  1.997353e-02   \n",
       "2  1.445656e-02  1.551792e-04  0.149664 -0.082415 -0.212303  7.452324e-02   \n",
       "3  5.977257e-02 -1.091038e-04  0.178119 -0.181831  0.022203 -6.419611e-02   \n",
       "4 -9.560779e-04  4.285911e-05 -0.196689 -0.078377 -0.231433 -6.379408e-02   \n",
       "5  4.186603e-16  5.718845e-17 -0.288675 -0.288675  0.288675 -1.799387e-16   \n",
       "6 -5.618438e-03  9.184467e-05 -0.061876  0.132185 -0.153982 -1.949962e-01   \n",
       "7 -8.706163e-02  2.439838e-04 -0.131512 -0.048846 -0.204894  5.364038e-02   \n",
       "8 -2.590867e-01  6.332890e-04 -0.160292  0.345762  0.067126  4.113526e-02   \n",
       "\n",
       "        edu_ias       edu_mca  edu_metric       edu_msc  ...     payment_c  \\\n",
       "0 -8.370724e-05  1.666650e-04   -0.000083 -8.295779e-05  ... -8.295779e-05   \n",
       "1  6.689813e-02 -3.898351e-02    0.034842 -3.066207e-02  ... -3.066207e-02   \n",
       "2 -4.366401e-02 -1.490322e-01    0.279552  4.816103e-02  ...  4.816103e-02   \n",
       "3  2.542031e-01  1.284522e-01   -0.025916 -1.306299e-01  ... -1.306299e-01   \n",
       "4  1.736011e-01  1.275872e-01   -0.043633  3.334093e-01  ...  3.334093e-01   \n",
       "5  5.566761e-16  3.773504e-16    0.288675 -2.867495e-15  ... -2.867495e-15   \n",
       "6 -1.602344e-01  3.899867e-01    0.224291 -1.854526e-01  ... -1.854526e-01   \n",
       "7  2.917008e-01 -1.073682e-01    0.024536 -3.022620e-01  ... -3.022620e-01   \n",
       "8  2.041919e-01 -9.751509e-02    0.125306 -3.630269e-02  ... -3.630269e-02   \n",
       "\n",
       "   payment_k     payment_l     payment_m     payment_n  payment_v  payment_x  \\\n",
       "0  -0.000084 -8.370724e-05  4.157882e-04  1.666650e-04  -0.000083  -0.000083   \n",
       "1   0.101510  6.689813e-02  1.997353e-02 -3.898351e-02  -0.065180   0.001489   \n",
       "2  -0.082415 -4.366401e-02  7.452324e-02 -1.490322e-01   0.149664  -0.212303   \n",
       "3  -0.181831  2.542031e-01 -6.419611e-02  1.284522e-01   0.178119   0.022203   \n",
       "4  -0.078377  1.736011e-01 -6.379408e-02  1.275872e-01  -0.196689  -0.231433   \n",
       "5  -0.288675  4.768228e-16 -1.373415e-16  4.230798e-16  -0.288675   0.288675   \n",
       "6   0.132185 -1.602344e-01 -1.949962e-01  3.899867e-01  -0.061876  -0.153982   \n",
       "7  -0.048846  2.917008e-01  5.364038e-02 -1.073682e-01  -0.131512  -0.204894   \n",
       "8   0.342198  2.089234e-01  4.937353e-02 -9.925556e-02  -0.141782   0.071629   \n",
       "\n",
       "   payment_z  mode_quarter     mode_year  \n",
       "0  -0.000083 -2.496230e-04  2.496230e-04  \n",
       "1   0.034842  1.311156e-02 -1.036411e-02  \n",
       "2   0.279552 -3.592033e-01  5.037384e-01  \n",
       "3  -0.025916 -3.400323e-01  8.800699e-02  \n",
       "4  -0.043633 -3.304816e-01 -3.041160e-01  \n",
       "5   0.288675  6.863141e-16  1.435407e-15  \n",
       "6   0.224291 -1.171899e-02 -3.258062e-02  \n",
       "7   0.024536  1.712654e-01 -5.333597e-02  \n",
       "8   0.125306 -1.052526e-01  3.208087e-02  \n",
       "\n",
       "[9 rows x 29 columns]"
      ]
     },
     "execution_count": 29,
     "metadata": {},
     "output_type": "execute_result"
    }
   ],
   "source": [
    "pd.DataFrame(pca.components_, columns = variable_name)"
   ]
  },
  {
   "cell_type": "code",
   "execution_count": 30,
   "metadata": {},
   "outputs": [],
   "source": [
    "from sklearn.decomposition import TruncatedSVD"
   ]
  },
  {
   "cell_type": "code",
   "execution_count": 31,
   "metadata": {},
   "outputs": [],
   "source": [
    "svd = TruncatedSVD(n_components=2)"
   ]
  },
  {
   "cell_type": "code",
   "execution_count": 32,
   "metadata": {},
   "outputs": [],
   "source": [
    "X_reduced = svd.fit_transform(X)"
   ]
  },
  {
   "cell_type": "code",
   "execution_count": 33,
   "metadata": {},
   "outputs": [
    {
     "data": {
      "text/plain": [
       "array([9.99983270e-01, 1.05565008e-05])"
      ]
     },
     "execution_count": 33,
     "metadata": {},
     "output_type": "execute_result"
    }
   ],
   "source": [
    "svd.explained_variance_ratio_"
   ]
  },
  {
   "cell_type": "code",
   "execution_count": 34,
   "metadata": {},
   "outputs": [
    {
     "data": {
      "text/plain": [
       "0.9999938265415431"
      ]
     },
     "execution_count": 34,
     "metadata": {},
     "output_type": "execute_result"
    }
   ],
   "source": [
    "svd.explained_variance_ratio_.sum()"
   ]
  },
  {
   "cell_type": "code",
   "execution_count": 35,
   "metadata": {},
   "outputs": [
    {
     "data": {
      "text/plain": [
       "0.9999973905221503"
      ]
     },
     "execution_count": 35,
     "metadata": {},
     "output_type": "execute_result"
    }
   ],
   "source": [
    "svd = TruncatedSVD(n_components=5)\n",
    "X_reduced = svd.fit_transform(X)\n",
    "svd.explained_variance_ratio_.sum()"
   ]
  },
  {
   "cell_type": "code",
   "execution_count": 36,
   "metadata": {},
   "outputs": [
    {
     "data": {
      "text/html": [
       "<div>\n",
       "<style scoped>\n",
       "    .dataframe tbody tr th:only-of-type {\n",
       "        vertical-align: middle;\n",
       "    }\n",
       "\n",
       "    .dataframe tbody tr th {\n",
       "        vertical-align: top;\n",
       "    }\n",
       "\n",
       "    .dataframe thead th {\n",
       "        text-align: right;\n",
       "    }\n",
       "</style>\n",
       "<table border=\"1\" class=\"dataframe\">\n",
       "  <thead>\n",
       "    <tr style=\"text-align: right;\">\n",
       "      <th></th>\n",
       "      <th>age</th>\n",
       "      <th>salary</th>\n",
       "      <th>edu_bba</th>\n",
       "      <th>edu_bca</th>\n",
       "      <th>edu_be</th>\n",
       "      <th>edu_btech</th>\n",
       "      <th>edu_ias</th>\n",
       "      <th>edu_mca</th>\n",
       "      <th>edu_metric</th>\n",
       "      <th>edu_msc</th>\n",
       "      <th>...</th>\n",
       "      <th>payment_c</th>\n",
       "      <th>payment_k</th>\n",
       "      <th>payment_l</th>\n",
       "      <th>payment_m</th>\n",
       "      <th>payment_n</th>\n",
       "      <th>payment_v</th>\n",
       "      <th>payment_x</th>\n",
       "      <th>payment_z</th>\n",
       "      <th>mode_quarter</th>\n",
       "      <th>mode_year</th>\n",
       "    </tr>\n",
       "  </thead>\n",
       "  <tbody>\n",
       "    <tr>\n",
       "      <th>0</th>\n",
       "      <td>0.001174</td>\n",
       "      <td>0.999999</td>\n",
       "      <td>0.000008</td>\n",
       "      <td>0.000008</td>\n",
       "      <td>0.000008</td>\n",
       "      <td>0.000007</td>\n",
       "      <td>0.000008</td>\n",
       "      <td>0.000008</td>\n",
       "      <td>0.000008</td>\n",
       "      <td>0.000008</td>\n",
       "      <td>...</td>\n",
       "      <td>0.000008</td>\n",
       "      <td>0.000008</td>\n",
       "      <td>0.000008</td>\n",
       "      <td>0.000007</td>\n",
       "      <td>0.000008</td>\n",
       "      <td>0.000008</td>\n",
       "      <td>0.000008</td>\n",
       "      <td>0.000008</td>\n",
       "      <td>0.000025</td>\n",
       "      <td>0.000024</td>\n",
       "    </tr>\n",
       "    <tr>\n",
       "      <th>1</th>\n",
       "      <td>0.966092</td>\n",
       "      <td>-0.001136</td>\n",
       "      <td>-0.037175</td>\n",
       "      <td>0.087910</td>\n",
       "      <td>0.014303</td>\n",
       "      <td>-0.051600</td>\n",
       "      <td>0.062116</td>\n",
       "      <td>-0.056027</td>\n",
       "      <td>0.036432</td>\n",
       "      <td>-0.011220</td>\n",
       "      <td>...</td>\n",
       "      <td>-0.011220</td>\n",
       "      <td>0.087910</td>\n",
       "      <td>0.062116</td>\n",
       "      <td>-0.051600</td>\n",
       "      <td>-0.056027</td>\n",
       "      <td>-0.037175</td>\n",
       "      <td>0.014303</td>\n",
       "      <td>0.036432</td>\n",
       "      <td>0.046032</td>\n",
       "      <td>-0.052343</td>\n",
       "    </tr>\n",
       "    <tr>\n",
       "      <th>2</th>\n",
       "      <td>0.041889</td>\n",
       "      <td>-0.000067</td>\n",
       "      <td>0.078951</td>\n",
       "      <td>-0.035975</td>\n",
       "      <td>-0.225214</td>\n",
       "      <td>0.157836</td>\n",
       "      <td>-0.056495</td>\n",
       "      <td>-0.130342</td>\n",
       "      <td>0.268190</td>\n",
       "      <td>0.032095</td>\n",
       "      <td>...</td>\n",
       "      <td>0.032095</td>\n",
       "      <td>-0.035975</td>\n",
       "      <td>-0.056495</td>\n",
       "      <td>0.157836</td>\n",
       "      <td>-0.130342</td>\n",
       "      <td>0.078951</td>\n",
       "      <td>-0.225214</td>\n",
       "      <td>0.268190</td>\n",
       "      <td>-0.336999</td>\n",
       "      <td>0.504976</td>\n",
       "    </tr>\n",
       "    <tr>\n",
       "      <th>3</th>\n",
       "      <td>0.053847</td>\n",
       "      <td>-0.000039</td>\n",
       "      <td>0.208225</td>\n",
       "      <td>-0.196389</td>\n",
       "      <td>-0.002596</td>\n",
       "      <td>-0.072329</td>\n",
       "      <td>0.240759</td>\n",
       "      <td>0.098335</td>\n",
       "      <td>0.014433</td>\n",
       "      <td>-0.114866</td>\n",
       "      <td>...</td>\n",
       "      <td>-0.114866</td>\n",
       "      <td>-0.196389</td>\n",
       "      <td>0.240759</td>\n",
       "      <td>-0.072329</td>\n",
       "      <td>0.098335</td>\n",
       "      <td>0.208225</td>\n",
       "      <td>-0.002596</td>\n",
       "      <td>0.014433</td>\n",
       "      <td>-0.377870</td>\n",
       "      <td>0.150329</td>\n",
       "    </tr>\n",
       "    <tr>\n",
       "      <th>4</th>\n",
       "      <td>0.004103</td>\n",
       "      <td>0.000005</td>\n",
       "      <td>-0.212770</td>\n",
       "      <td>-0.070274</td>\n",
       "      <td>-0.231073</td>\n",
       "      <td>-0.042561</td>\n",
       "      <td>0.182603</td>\n",
       "      <td>0.146267</td>\n",
       "      <td>-0.051970</td>\n",
       "      <td>0.313301</td>\n",
       "      <td>...</td>\n",
       "      <td>0.313301</td>\n",
       "      <td>-0.070274</td>\n",
       "      <td>0.182603</td>\n",
       "      <td>-0.042561</td>\n",
       "      <td>0.146267</td>\n",
       "      <td>-0.212770</td>\n",
       "      <td>-0.231073</td>\n",
       "      <td>-0.051970</td>\n",
       "      <td>-0.330503</td>\n",
       "      <td>-0.307301</td>\n",
       "    </tr>\n",
       "  </tbody>\n",
       "</table>\n",
       "<p>5 rows × 29 columns</p>\n",
       "</div>"
      ],
      "text/plain": [
       "        age    salary   edu_bba   edu_bca    edu_be  edu_btech   edu_ias  \\\n",
       "0  0.001174  0.999999  0.000008  0.000008  0.000008   0.000007  0.000008   \n",
       "1  0.966092 -0.001136 -0.037175  0.087910  0.014303  -0.051600  0.062116   \n",
       "2  0.041889 -0.000067  0.078951 -0.035975 -0.225214   0.157836 -0.056495   \n",
       "3  0.053847 -0.000039  0.208225 -0.196389 -0.002596  -0.072329  0.240759   \n",
       "4  0.004103  0.000005 -0.212770 -0.070274 -0.231073  -0.042561  0.182603   \n",
       "\n",
       "    edu_mca  edu_metric   edu_msc  ...  payment_c  payment_k  payment_l  \\\n",
       "0  0.000008    0.000008  0.000008  ...   0.000008   0.000008   0.000008   \n",
       "1 -0.056027    0.036432 -0.011220  ...  -0.011220   0.087910   0.062116   \n",
       "2 -0.130342    0.268190  0.032095  ...   0.032095  -0.035975  -0.056495   \n",
       "3  0.098335    0.014433 -0.114866  ...  -0.114866  -0.196389   0.240759   \n",
       "4  0.146267   -0.051970  0.313301  ...   0.313301  -0.070274   0.182603   \n",
       "\n",
       "   payment_m  payment_n  payment_v  payment_x  payment_z  mode_quarter  \\\n",
       "0   0.000007   0.000008   0.000008   0.000008   0.000008      0.000025   \n",
       "1  -0.051600  -0.056027  -0.037175   0.014303   0.036432      0.046032   \n",
       "2   0.157836  -0.130342   0.078951  -0.225214   0.268190     -0.336999   \n",
       "3  -0.072329   0.098335   0.208225  -0.002596   0.014433     -0.377870   \n",
       "4  -0.042561   0.146267  -0.212770  -0.231073  -0.051970     -0.330503   \n",
       "\n",
       "   mode_year  \n",
       "0   0.000024  \n",
       "1  -0.052343  \n",
       "2   0.504976  \n",
       "3   0.150329  \n",
       "4  -0.307301  \n",
       "\n",
       "[5 rows x 29 columns]"
      ]
     },
     "execution_count": 36,
     "metadata": {},
     "output_type": "execute_result"
    }
   ],
   "source": [
    "pd.DataFrame(svd.components_, columns = variable_name)"
   ]
  },
  {
   "cell_type": "code",
   "execution_count": null,
   "metadata": {},
   "outputs": [],
   "source": []
  }
 ],
 "metadata": {
  "kernelspec": {
   "display_name": "Python 3",
   "language": "python",
   "name": "python3"
  },
  "language_info": {
   "codemirror_mode": {
    "name": "ipython",
    "version": 3
   },
   "file_extension": ".py",
   "mimetype": "text/x-python",
   "name": "python",
   "nbconvert_exporter": "python",
   "pygments_lexer": "ipython3",
   "version": "3.7.3"
  }
 },
 "nbformat": 4,
 "nbformat_minor": 2
}
